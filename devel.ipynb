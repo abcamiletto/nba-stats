{
 "cells": [
  {
   "cell_type": "markdown",
   "metadata": {},
   "source": [
    "# NBA stats scraper and analyzer"
   ]
  },
  {
   "cell_type": "code",
   "execution_count": 1,
   "metadata": {},
   "outputs": [],
   "source": [
    "import requests\n",
    "from bs4 import BeautifulSoup, Comment\n",
    "import pandas as pd\n",
    "import numpy as np\n",
    "import re\n",
    "import time\n",
    "import os\n",
    "import sys\n",
    "import json\n",
    "import argparse\n",
    "import logging\n",
    "import logging.config\n",
    "import yaml\n",
    "import datetime\n",
    "import csv\n",
    "import glob\n",
    "import pathlib\n",
    "from scraper.utils import find_text_of_p_with\n",
    "from scraper.scraper import scrap_functions\n",
    "from scraper.url import get_seasons_url, get_players_url, get_player_soup"
   ]
  },
  {
   "cell_type": "code",
   "execution_count": 2,
   "metadata": {},
   "outputs": [],
   "source": [
    "START_YEAR = 2010\n",
    "END_YEAR = 2020\n",
    "OUTPUT_DIR = pathlib.Path() / 'data'\n",
    "OVERWRITE = True\n",
    "\n",
    "# Set up constants\n",
    "BASE_URL = 'https://www.basketball-reference.com'\n",
    "SEASONS_URL = 'https://www.basketball-reference.com/leagues/NBA_{}_per_game.html'\n",
    "PLAYER_URL = 'https://www.basketball-reference.com'\n"
   ]
  },
  {
   "cell_type": "code",
   "execution_count": 3,
   "metadata": {},
   "outputs": [
    {
     "name": "stdout",
     "output_type": "stream",
     "text": [
      "Processing season 2010\n",
      "\tProcessing player https://www.basketball-reference.com/players/g/gayru01.html\n",
      "College: UConn\n",
      "\tProcessing player https://www.basketball-reference.com/players/g/geeal01.html\n",
      "College: Alabama\n"
     ]
    },
    {
     "ename": "ValueError",
     "evalue": "Could not find string 'Draft' in <p> tags",
     "output_type": "error",
     "traceback": [
      "\u001b[0;31m---------------------------------------------------------------------------\u001b[0m",
      "\u001b[0;31mValueError\u001b[0m                                Traceback (most recent call last)",
      "\u001b[1;32m/home/andrea/test/nba-stats/devel.ipynb Cell 4\u001b[0m in \u001b[0;36m<cell line: 3>\u001b[0;34m()\u001b[0m\n\u001b[1;32m     <a href='vscode-notebook-cell:/home/andrea/test/nba-stats/devel.ipynb#W4sZmlsZQ%3D%3D?line=21'>22</a>\u001b[0m     \u001b[39m# Scrape HTML\u001b[39;00m\n\u001b[1;32m     <a href='vscode-notebook-cell:/home/andrea/test/nba-stats/devel.ipynb#W4sZmlsZQ%3D%3D?line=22'>23</a>\u001b[0m     \u001b[39mfor\u001b[39;00m key, function \u001b[39min\u001b[39;00m scrap_functions\u001b[39m.\u001b[39mitems():\n\u001b[0;32m---> <a href='vscode-notebook-cell:/home/andrea/test/nba-stats/devel.ipynb#W4sZmlsZQ%3D%3D?line=23'>24</a>\u001b[0m         players_data[url][key] \u001b[39m=\u001b[39m function(soup_file, season\u001b[39m=\u001b[39;49mseason_str)\n\u001b[1;32m     <a href='vscode-notebook-cell:/home/andrea/test/nba-stats/devel.ipynb#W4sZmlsZQ%3D%3D?line=25'>26</a>\u001b[0m     time\u001b[39m.\u001b[39msleep(\u001b[39m0.2\u001b[39m)\n\u001b[1;32m     <a href='vscode-notebook-cell:/home/andrea/test/nba-stats/devel.ipynb#W4sZmlsZQ%3D%3D?line=27'>28</a>\u001b[0m \u001b[39m# Save the data to a JSON file\u001b[39;00m\n",
      "File \u001b[0;32m~/test/nba-stats/scraper/scraper.py:117\u001b[0m, in \u001b[0;36mget_player_draft\u001b[0;34m(soup, **kwargs)\u001b[0m\n\u001b[1;32m    115\u001b[0m \u001b[39mdef\u001b[39;00m \u001b[39mget_player_draft\u001b[39m(soup: BeautifulSoup, \u001b[39m*\u001b[39m\u001b[39m*\u001b[39mkwargs) \u001b[39m-\u001b[39m\u001b[39m>\u001b[39m \u001b[39mstr\u001b[39m:\n\u001b[1;32m    116\u001b[0m     \u001b[39m# Find text of <p> with 'Draft' inside\u001b[39;00m\n\u001b[0;32m--> 117\u001b[0m     text \u001b[39m=\u001b[39m find_text_of_p_with(soup, \u001b[39m\"\u001b[39;49m\u001b[39mDraft\u001b[39;49m\u001b[39m\"\u001b[39;49m)\n\u001b[1;32m    119\u001b[0m     draft \u001b[39m=\u001b[39m text\u001b[39m.\u001b[39msplit(\u001b[39m\"\u001b[39m\u001b[39mDraft: \u001b[39m\u001b[39m\"\u001b[39m)[\u001b[39m1\u001b[39m]\n\u001b[1;32m    120\u001b[0m     \u001b[39mreturn\u001b[39;00m draft\n",
      "File \u001b[0;32m~/test/nba-stats/scraper/utils.py:16\u001b[0m, in \u001b[0;36mfind_text_of_p_with\u001b[0;34m(soup, text)\u001b[0m\n\u001b[1;32m     13\u001b[0m         \u001b[39mreturn\u001b[39;00m \u001b[39m\"\u001b[39m\u001b[39m \u001b[39m\u001b[39m\"\u001b[39m\u001b[39m.\u001b[39mjoin(p\u001b[39m.\u001b[39mtext\u001b[39m.\u001b[39msplit())\n\u001b[1;32m     15\u001b[0m \u001b[39m# If we get here, we didn't find the text\u001b[39;00m\n\u001b[0;32m---> 16\u001b[0m \u001b[39mraise\u001b[39;00m \u001b[39mValueError\u001b[39;00m(\u001b[39mf\u001b[39m\u001b[39m\"\u001b[39m\u001b[39mCould not find string \u001b[39m\u001b[39m'\u001b[39m\u001b[39m{\u001b[39;00mtext\u001b[39m}\u001b[39;00m\u001b[39m'\u001b[39m\u001b[39m in <p> tags\u001b[39m\u001b[39m\"\u001b[39m)\n",
      "\u001b[0;31mValueError\u001b[0m: Could not find string 'Draft' in <p> tags"
     ]
    }
   ],
   "source": [
    "# Download HTML to scrape\n",
    "seasons = get_seasons_url(START_YEAR, END_YEAR)\n",
    "for season in seasons:\n",
    "    # Get the players\n",
    "    player_urls = get_players_url(season)\n",
    "\n",
    "    season_year = int(season.split('_')[1])\n",
    "    season_str = f'{season_year}-{(season_year + 1) % 100}'\n",
    "    \n",
    "    print(f'Processing season {season_year}')\n",
    "\n",
    "    players_data = {}\n",
    "    for url in player_urls[:10]:\n",
    "        \n",
    "        print(f'\\tProcessing player {url}')\n",
    "\n",
    "        players_data[url] = {}\n",
    "        players_data[url]['season'] = season_year\n",
    "        players_data[url]['player'] = url\n",
    "        soup_file = get_player_soup(url)\n",
    "        \n",
    "        # Scrape HTML\n",
    "        for key, function in scrap_functions.items():\n",
    "            players_data[url][key] = function(soup_file, season=season_str)\n",
    "\n",
    "        time.sleep(0.2)\n",
    "    \n",
    "    # Save the data to a JSON file\n",
    "    destination = OUTPUT_DIR / f'{season_year}.json'\n",
    "    with open(str(destination), 'w') as f:\n",
    "        print(f'Saving data to {destination}')\n",
    "        json.dump(players_data, f, indent=4, default=str)\n",
    "\n"
   ]
  },
  {
   "cell_type": "code",
   "execution_count": null,
   "metadata": {},
   "outputs": [],
   "source": []
  },
  {
   "cell_type": "code",
   "execution_count": null,
   "metadata": {},
   "outputs": [],
   "source": []
  }
 ],
 "metadata": {
  "kernelspec": {
   "display_name": "Python 3.10.4 ('test')",
   "language": "python",
   "name": "python3"
  },
  "language_info": {
   "codemirror_mode": {
    "name": "ipython",
    "version": 3
   },
   "file_extension": ".py",
   "mimetype": "text/x-python",
   "name": "python",
   "nbconvert_exporter": "python",
   "pygments_lexer": "ipython3",
   "version": "3.10.4"
  },
  "orig_nbformat": 4,
  "vscode": {
   "interpreter": {
    "hash": "8391ddcfa39f67056a0c144f64521e47bce5ae25c0afb3efe9d2f03472675a87"
   }
  }
 },
 "nbformat": 4,
 "nbformat_minor": 2
}
