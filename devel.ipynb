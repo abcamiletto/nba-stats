{
 "cells": [
  {
   "cell_type": "markdown",
   "metadata": {},
   "source": [
    "# NBA stats scraper and analyzer"
   ]
  },
  {
   "cell_type": "code",
   "execution_count": 6,
   "metadata": {},
   "outputs": [],
   "source": [
    "from bs4 import BeautifulSoup, Comment\n",
    "import pathlib\n",
    "import json\n",
    "import time\n",
    "from scraper.utils import find_text_of_p_with\n",
    "from scraper.scraper import scrap_functions\n",
    "from scraper.url import get_seasons_url, get_players_url, get_player_soup\n",
    "from tqdm import tqdm"
   ]
  },
  {
   "cell_type": "code",
   "execution_count": 7,
   "metadata": {},
   "outputs": [],
   "source": [
    "START_YEAR = 2010\n",
    "END_YEAR = 2020\n",
    "OUTPUT_DIR = pathlib.Path() / 'data'\n",
    "OVERWRITE = True\n",
    "\n",
    "# Set up constants\n",
    "BASE_URL = 'https://www.basketball-reference.com'\n",
    "SEASONS_URL = 'https://www.basketball-reference.com/leagues/NBA_{}_per_game.html'\n",
    "PLAYER_URL = 'https://www.basketball-reference.com'\n"
   ]
  },
  {
   "cell_type": "code",
   "execution_count": 8,
   "metadata": {},
   "outputs": [
    {
     "name": "stdout",
     "output_type": "stream",
     "text": [
      "['https://www.basketball-reference.com/leagues/NBA_2010_per_game.html', 'https://www.basketball-reference.com/leagues/NBA_2011_per_game.html', 'https://www.basketball-reference.com/leagues/NBA_2012_per_game.html', 'https://www.basketball-reference.com/leagues/NBA_2013_per_game.html', 'https://www.basketball-reference.com/leagues/NBA_2014_per_game.html', 'https://www.basketball-reference.com/leagues/NBA_2015_per_game.html', 'https://www.basketball-reference.com/leagues/NBA_2016_per_game.html', 'https://www.basketball-reference.com/leagues/NBA_2017_per_game.html', 'https://www.basketball-reference.com/leagues/NBA_2018_per_game.html', 'https://www.basketball-reference.com/leagues/NBA_2019_per_game.html', 'https://www.basketball-reference.com/leagues/NBA_2020_per_game.html']\n"
     ]
    }
   ],
   "source": [
    "# Download HTML to scrape\n",
    "seasons = get_seasons_url(START_YEAR, END_YEAR)\n",
    "# returns season URLs\n",
    "print(seasons)"
   ]
  },
  {
   "cell_type": "code",
   "execution_count": 9,
   "metadata": {},
   "outputs": [],
   "source": [
    "# dataset textual constants\n",
    "SEASON = 'season'\n",
    "URL = 'url'"
   ]
  },
  {
   "cell_type": "code",
   "execution_count": null,
   "metadata": {},
   "outputs": [],
   "source": [
    "for season in seasons:\n",
    "    # Get the players\n",
    "    player_urls = get_players_url(season)\n",
    "\n",
    "    season_year = int(season.split('_')[1])\n",
    "    season_str = f'{season_year}-{(season_year + 1) % 100}'\n",
    "    \n",
    "    print(f'Processing season {season_year}, found {len(player_urls)} players')\n",
    "\n",
    "    players_data = {}\n",
    "    for url in tqdm(player_urls):\n",
    "        # Get the player's HTML page\n",
    "        soup_file = get_player_soup(url)\n",
    "        \n",
    "        # Scrape HTML\n",
    "        player = {}\n",
    "        player[URL] = url\n",
    "        player[SEASON] = season_year\n",
    "        for key, function in scrap_functions.items():\n",
    "            player[key] = function(soup_file, season=season_str)\n",
    "\n",
    "        players_data[url] = player\n",
    "    \n",
    "    # Save the data to a JSON file\n",
    "    destination = OUTPUT_DIR / f'{season_year}.json'\n",
    "    with open(str(destination), 'w') as f:\n",
    "        print(f'Saving data to {destination}')\n",
    "        json.dump(players_data, f, indent=4, default=str)"
   ]
  }
 ],
 "metadata": {
  "kernelspec": {
   "display_name": "Python 3.10.4 64-bit",
   "language": "python",
   "name": "python3"
  },
  "language_info": {
   "codemirror_mode": {
    "name": "ipython",
    "version": 3
   },
   "file_extension": ".py",
   "mimetype": "text/x-python",
   "name": "python",
   "nbconvert_exporter": "python",
   "pygments_lexer": "ipython3",
   "version": "3.10.4"
  },
  "orig_nbformat": 4,
  "vscode": {
   "interpreter": {
    "hash": "31f2aee4e71d21fbe5cf8b01ff0e069b9275f58929596ceb00d14d90e3e16cd6"
   }
  }
 },
 "nbformat": 4,
 "nbformat_minor": 2
}
