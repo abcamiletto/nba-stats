{
 "cells": [
  {
   "cell_type": "markdown",
   "metadata": {},
   "source": [
    "# NBA stats scraper and analyzer"
   ]
  },
  {
   "cell_type": "code",
   "execution_count": 1,
   "metadata": {},
   "outputs": [],
   "source": [
    "from bs4 import BeautifulSoup, Comment\n",
    "import pathlib\n",
    "import json\n",
    "import time\n",
    "from scraper.utils import find_text_of_p_with\n",
    "from scraper.scraper import scrap_functions\n",
    "from scraper.url import get_seasons_url, get_players_url, get_player_soup\n",
    "from tqdm import tqdm"
   ]
  },
  {
   "cell_type": "code",
   "execution_count": 2,
   "metadata": {},
   "outputs": [],
   "source": [
    "START_YEAR = 2010\n",
    "END_YEAR = 2020\n",
    "OUTPUT_DIR = pathlib.Path() / 'data'\n",
    "OVERWRITE = True\n",
    "\n",
    "# Set up constants\n",
    "BASE_URL = 'https://www.basketball-reference.com'\n",
    "SEASONS_URL = 'https://www.basketball-reference.com/leagues/NBA_{}_per_game.html'\n",
    "PLAYER_URL = 'https://www.basketball-reference.com'\n"
   ]
  },
  {
   "cell_type": "code",
   "execution_count": 3,
   "metadata": {},
   "outputs": [
    {
     "name": "stdout",
     "output_type": "stream",
     "text": [
      "Processing season 2010, found 401 players\n"
     ]
    },
    {
     "name": "stderr",
     "output_type": "stream",
     "text": [
      "  0%|          | 1/261 [00:01<04:56,  1.14s/it]"
     ]
    },
    {
     "name": "stdout",
     "output_type": "stream",
     "text": [
      "Born: May 6, 1984 (Age: 38-153d) in Baton Rouge, Louisiana us\n"
     ]
    },
    {
     "name": "stderr",
     "output_type": "stream",
     "text": [
      "  1%|          | 2/261 [00:02<06:34,  1.52s/it]"
     ]
    },
    {
     "name": "stdout",
     "output_type": "stream",
     "text": [
      "Born: October 26, 1985 (Age: 36-345d) in Rome, Italy it\n"
     ]
    },
    {
     "name": "stderr",
     "output_type": "stream",
     "text": [
      "  1%|          | 3/261 [00:04<06:47,  1.58s/it]"
     ]
    },
    {
     "name": "stdout",
     "output_type": "stream",
     "text": [
      "Born: November 3, 1985 (Age: 36-337d) in Poplar Bluff, Missouri us\n",
      "Born: October 27, 1987 (Age: 34-344d) in Plainsboro, New Jersey us\n"
     ]
    },
    {
     "name": "stderr",
     "output_type": "stream",
     "text": [
      "  2%|▏         | 5/261 [00:07<05:57,  1.40s/it]"
     ]
    },
    {
     "name": "stdout",
     "output_type": "stream",
     "text": [
      "Born: February 23, 1987 (Age: 35-225d) in Detroit, Michigan us\n"
     ]
    },
    {
     "name": "stderr",
     "output_type": "stream",
     "text": [
      "  2%|▏         | 6/261 [00:09<06:34,  1.55s/it]"
     ]
    },
    {
     "name": "stdout",
     "output_type": "stream",
     "text": [
      "Born: April 29, 1987 (Age: 35-160d) in Ontario, California us\n",
      "Born: June 12, 1976 (Age: 46-116d) in Shreveport, Louisiana us\n"
     ]
    },
    {
     "name": "stderr",
     "output_type": "stream",
     "text": [
      "  3%|▎         | 8/261 [00:12<06:58,  1.66s/it]"
     ]
    },
    {
     "name": "stdout",
     "output_type": "stream",
     "text": [
      "Born: December 8, 1982 (Age: 39-302d) in Portland, Oregon us\n",
      "Born: February 10, 1985 (Age: 37-238d) in Monroe, Louisiana us\n"
     ]
    },
    {
     "name": "stderr",
     "output_type": "stream",
     "text": [
      "  4%|▍         | 10/261 [00:16<07:43,  1.85s/it]"
     ]
    },
    {
     "name": "stdout",
     "output_type": "stream",
     "text": [
      "Born: November 30, 1986 (Age: 35-310d) in Los Angeles, California us\n",
      "Born: May 7, 1978 (Age: 44-152d) in Waukegan, Illinois us\n"
     ]
    },
    {
     "name": "stderr",
     "output_type": "stream",
     "text": [
      "  4%|▍         | 11/261 [00:19<08:13,  1.98s/it]"
     ]
    },
    {
     "name": "stdout",
     "output_type": "stream",
     "text": [
      "Born: January 9, 1989 (Age: 33-270d) in Cheverly, Maryland us\n"
     ]
    },
    {
     "name": "stderr",
     "output_type": "stream",
     "text": [
      "  5%|▍         | 12/261 [00:21<08:11,  1.97s/it]"
     ]
    },
    {
     "name": "stdout",
     "output_type": "stream",
     "text": [
      "Born: December 2, 1985 (Age: 36-308d) in Los Angeles, California us\n"
     ]
    },
    {
     "name": "stderr",
     "output_type": "stream",
     "text": [
      "  5%|▌         | 14/261 [00:24<07:16,  1.77s/it]"
     ]
    },
    {
     "name": "stdout",
     "output_type": "stream",
     "text": [
      "Born: May 19, 1985 (Age: 37-140d) in Ahvaz, Iran ir\n"
     ]
    },
    {
     "name": "stderr",
     "output_type": "stream",
     "text": [
      "  6%|▌         | 15/261 [00:26<07:25,  1.81s/it]"
     ]
    },
    {
     "name": "stdout",
     "output_type": "stream",
     "text": [
      "Born: May 7, 1979 (Age: 43-152d) in Milwaukee, Wisconsin us\n"
     ]
    },
    {
     "name": "stderr",
     "output_type": "stream",
     "text": [
      "  6%|▌         | 16/261 [00:28<07:22,  1.81s/it]"
     ]
    },
    {
     "name": "stdout",
     "output_type": "stream",
     "text": [
      "Born: November 20, 1975 (Age: 46-320d) in Fort Madison, Iowa us\n"
     ]
    },
    {
     "name": "stderr",
     "output_type": "stream",
     "text": [
      "  7%|▋         | 17/261 [00:29<06:52,  1.69s/it]"
     ]
    },
    {
     "name": "stdout",
     "output_type": "stream",
     "text": [
      "Born: April 18, 1986 (Age: 36-171d) in Jamaica, New York us\n"
     ]
    },
    {
     "name": "stderr",
     "output_type": "stream",
     "text": [
      "  7%|▋         | 18/261 [00:30<06:07,  1.51s/it]"
     ]
    },
    {
     "name": "stdout",
     "output_type": "stream",
     "text": [
      "Born: October 10, 1986 (Age: 35-361d) in Sydney, Australia au\n",
      "Born: March 25, 1986 (Age: 36-195d) in San Giovanni in Persiceto, Italy it\n"
     ]
    },
    {
     "name": "stderr",
     "output_type": "stream",
     "text": [
      "  7%|▋         | 19/261 [00:32<06:41,  1.66s/it]"
     ]
    },
    {
     "name": "stdout",
     "output_type": "stream",
     "text": [
      "Born: November 20, 1981 (Age: 40-320d) in Aschaffenburg, Germany de\n"
     ]
    },
    {
     "name": "stderr",
     "output_type": "stream",
     "text": [
      "  8%|▊         | 20/261 [00:34<07:05,  1.76s/it]"
     ]
    },
    {
     "name": "stdout",
     "output_type": "stream",
     "text": [
      "Born: August 23, 1987 (Age: 35-044d) in Rancho Cucamonga, California us\n"
     ]
    },
    {
     "name": "stderr",
     "output_type": "stream",
     "text": [
      "  8%|▊         | 21/261 [00:36<07:08,  1.79s/it]"
     ]
    },
    {
     "name": "stdout",
     "output_type": "stream",
     "text": [
      "Born: November 10, 1987 (Age: 34-330d) in New Orleans, Louisiana us\n"
     ]
    },
    {
     "name": "stderr",
     "output_type": "stream",
     "text": [
      "  8%|▊         | 22/261 [00:38<08:01,  2.01s/it]"
     ]
    },
    {
     "name": "stdout",
     "output_type": "stream",
     "text": [
      "Born: March 19, 1976 (Age: 46-201d) in Los Angeles, California us\n"
     ]
    },
    {
     "name": "stderr",
     "output_type": "stream",
     "text": [
      "  9%|▉         | 23/261 [00:41<08:55,  2.25s/it]"
     ]
    },
    {
     "name": "stdout",
     "output_type": "stream",
     "text": [
      "Born: May 17, 1982 (Age: 40-142d) in Bruges, Belgium be\n"
     ]
    },
    {
     "name": "stderr",
     "output_type": "stream",
     "text": [
      "  9%|▉         | 24/261 [00:44<09:02,  2.29s/it]"
     ]
    },
    {
     "name": "stdout",
     "output_type": "stream",
     "text": [
      "Born: December 30, 1980 (Age: 41-280d) in Kinshasa, Democratic Republic of the Congo cd\n"
     ]
    },
    {
     "name": "stderr",
     "output_type": "stream",
     "text": [
      " 10%|▉         | 25/261 [00:46<08:40,  2.21s/it]"
     ]
    },
    {
     "name": "stdout",
     "output_type": "stream",
     "text": [
      "Born: August 9, 1974 (Age: 48-058d) in Little Rock, Arkansas us\n"
     ]
    },
    {
     "name": "stderr",
     "output_type": "stream",
     "text": [
      " 10%|▉         | 26/261 [00:49<09:37,  2.46s/it]"
     ]
    }
   ],
   "source": [
    "# Download HTML to scrape\n",
    "seasons = get_seasons_url(START_YEAR, END_YEAR)\n",
    "for season in seasons:\n",
    "    # Get the players\n",
    "    player_urls = get_players_url(season)\n",
    "    \n",
    "\n",
    "    season_year = int(season.split('_')[1])\n",
    "    season_str = f'{season_year}-{(season_year + 1) % 100}'\n",
    "    \n",
    "    print(f'Processing season {season_year}, found {len(player_urls)} players')\n",
    "\n",
    "    players_data = {}\n",
    "    for url in tqdm(player_urls):\n",
    "\n",
    "        players_data[url] = {}\n",
    "        players_data[url]['season'] = season_year\n",
    "        players_data[url]['player'] = url\n",
    "        soup_file = get_player_soup(url)\n",
    "        \n",
    "        # Scrape HTML\n",
    "        for key, function in scrap_functions.items():\n",
    "            players_data[url][key] = function(soup_file, season=season_str)\n",
    "            time.sleep(0.01)\n",
    "\n",
    "        time.sleep(0.1)\n",
    "    \n",
    "    # Save the data to a JSON file\n",
    "    destination = OUTPUT_DIR / f'{season_year}.json'\n",
    "    with open(str(destination), 'w') as f:\n",
    "        print(f'Saving data to {destination}')\n",
    "        json.dump(players_data, f, indent=4, default=str)\n",
    "\n"
   ]
  },
  {
   "cell_type": "code",
   "execution_count": null,
   "metadata": {},
   "outputs": [],
   "source": []
  }
 ],
 "metadata": {
  "kernelspec": {
   "display_name": "Python 3.10.4 ('test')",
   "language": "python",
   "name": "python3"
  },
  "language_info": {
   "codemirror_mode": {
    "name": "ipython",
    "version": 3
   },
   "file_extension": ".py",
   "mimetype": "text/x-python",
   "name": "python",
   "nbconvert_exporter": "python",
   "pygments_lexer": "ipython3",
   "version": "3.10.4"
  },
  "orig_nbformat": 4,
  "vscode": {
   "interpreter": {
    "hash": "8391ddcfa39f67056a0c144f64521e47bce5ae25c0afb3efe9d2f03472675a87"
   }
  }
 },
 "nbformat": 4,
 "nbformat_minor": 2
}
