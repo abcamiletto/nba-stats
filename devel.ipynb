{
 "cells": [
  {
   "cell_type": "markdown",
   "metadata": {},
   "source": [
    "# NBA stats scraper and analyzer"
   ]
  },
  {
   "cell_type": "code",
   "execution_count": 1,
   "metadata": {},
   "outputs": [],
   "source": [
    "from bs4 import BeautifulSoup, Comment\n",
    "import pathlib\n",
    "import json\n",
    "import time\n",
    "from scraper.utils import find_text_of_p_with\n",
    "from scraper.scraper import scrap_functions\n",
    "from scraper.url import get_seasons_url, get_players_url, get_player_soup\n",
    "from tqdm import tqdm"
   ]
  },
  {
   "cell_type": "code",
   "execution_count": 2,
   "metadata": {},
   "outputs": [],
   "source": [
    "START_YEAR = 2010\n",
    "END_YEAR = 2020\n",
    "OUTPUT_DIR = pathlib.Path() / 'data'\n",
    "OVERWRITE = True\n",
    "\n",
    "# Set up constants\n",
    "BASE_URL = 'https://www.basketball-reference.com'\n",
    "SEASONS_URL = 'https://www.basketball-reference.com/leagues/NBA_{}_per_game.html'\n",
    "PLAYER_URL = 'https://www.basketball-reference.com'\n"
   ]
  },
  {
   "cell_type": "code",
   "execution_count": 3,
   "metadata": {},
   "outputs": [
    {
     "name": "stdout",
     "output_type": "stream",
     "text": [
      "Processing season 2010, found 401 players\n"
     ]
    },
    {
     "name": "stderr",
     "output_type": "stream",
     "text": [
      " 19%|█▉        | 76/401 [02:33<10:06,  1.87s/it]"
     ]
    }
   ],
   "source": [
    "# Download HTML to scrape\n",
    "seasons = get_seasons_url(START_YEAR, END_YEAR)\n",
    "for season in seasons:\n",
    "    # Get the players\n",
    "    player_urls = get_players_url(season)\n",
    "    \n",
    "\n",
    "    season_year = int(season.split('_')[1])\n",
    "    season_str = f'{season_year}-{(season_year + 1) % 100}'\n",
    "    \n",
    "    print(f'Processing season {season_year}, found {len(player_urls)} players')\n",
    "\n",
    "    players_data = {}\n",
    "    for url in tqdm(player_urls):\n",
    "\n",
    "        players_data[url] = {}\n",
    "        players_data[url]['season'] = season_year\n",
    "        players_data[url]['player'] = url\n",
    "        soup_file = get_player_soup(url)\n",
    "        \n",
    "        # Scrape HTML\n",
    "        for key, function in scrap_functions.items():\n",
    "            players_data[url][key] = function(soup_file, season=season_str)\n",
    "            time.sleep(0.01)\n",
    "\n",
    "        time.sleep(0.1)\n",
    "    \n",
    "    # Save the data to a JSON file\n",
    "    destination = OUTPUT_DIR / f'{season_year}.json'\n",
    "    with open(str(destination), 'w') as f:\n",
    "        print(f'Saving data to {destination}')\n",
    "        json.dump(players_data, f, indent=4, default=str)\n",
    "\n"
   ]
  },
  {
   "cell_type": "code",
   "execution_count": null,
   "metadata": {},
   "outputs": [],
   "source": []
  }
 ],
 "metadata": {
  "kernelspec": {
   "display_name": "Python 3.10.4 ('test')",
   "language": "python",
   "name": "python3"
  },
  "language_info": {
   "codemirror_mode": {
    "name": "ipython",
    "version": 3
   },
   "file_extension": ".py",
   "mimetype": "text/x-python",
   "name": "python",
   "nbconvert_exporter": "python",
   "pygments_lexer": "ipython3",
   "version": "3.10.4"
  },
  "orig_nbformat": 4,
  "vscode": {
   "interpreter": {
    "hash": "8391ddcfa39f67056a0c144f64521e47bce5ae25c0afb3efe9d2f03472675a87"
   }
  }
 },
 "nbformat": 4,
 "nbformat_minor": 2
}
